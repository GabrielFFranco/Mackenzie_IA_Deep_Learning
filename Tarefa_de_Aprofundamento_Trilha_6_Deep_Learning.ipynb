{
  "nbformat": 4,
  "nbformat_minor": 0,
  "metadata": {
    "colab": {
      "name": "Tarefa de Aprofundamento Trilha 6 Deep Learning.ipynb",
      "provenance": [],
      "authorship_tag": "ABX9TyNJgxiFBbzDlFfJP18EZxea",
      "include_colab_link": true
    },
    "kernelspec": {
      "name": "python3",
      "display_name": "Python 3"
    },
    "language_info": {
      "name": "python"
    }
  },
  "cells": [
    {
      "cell_type": "markdown",
      "metadata": {
        "id": "view-in-github",
        "colab_type": "text"
      },
      "source": [
        "<a href=\"https://colab.research.google.com/github/GabrielFFranco/Mackenzie_IA_Deep_Learning/blob/main/Tarefa_de_Aprofundamento_Trilha_6_Deep_Learning.ipynb\" target=\"_parent\"><img src=\"https://colab.research.google.com/assets/colab-badge.svg\" alt=\"Open In Colab\"/></a>"
      ]
    },
    {
      "cell_type": "markdown",
      "metadata": {
        "id": "fmYl4sHRwX3C"
      },
      "source": [
        "# **Classificação de Dogras usando Pytorch**\n",
        "\n",
        "### **Aluno: Gabriel Ferreira Franco**\n",
        "\n",
        "\n",
        "O dataset escolhido para atividade foi o mesmo utilizado na atividade de aprofundamento da trilha 4, ele determina qual tipo de medicamento o paciente deve tomar baseado na sua idade, sexo, pressão arterial, nivel de colesterol e o nivel de sódio e potassio no sangue.\n",
        "\n",
        "Dataset disponível em: https://www.kaggle.com/prathamtripathi/drug-classification\n",
        "\n",
        "Código disponível em: https://github.com/GabrielFFranco/Mackenzie_IA_Deep_Learning/blob/main/Tarefa_de_Aprofundamento_Trilha_6_Deep_Learning.ipynb"
      ]
    },
    {
      "cell_type": "code",
      "metadata": {
        "id": "DQT_4IVYQw0w"
      },
      "source": [
        "#Fazendo as importações das bibliotecas.\n",
        "import pandas as pd\n",
        "import numpy as np\n",
        "from sklearn.preprocessing import StandardScaler, scale\n",
        "from sklearn.model_selection import train_test_split\n",
        "from sklearn.metrics import confusion_matrix, classification_report, accuracy_score\n",
        "import torch\n",
        "import torch.nn as nn\n",
        "from torch.autograd import Variable\n",
        "import matplotlib.pyplot as plt\n",
        "import seaborn as sns\n",
        "import tqdm\n",
        "%matplotlib inline"
      ],
      "execution_count": 286,
      "outputs": []
    },
    {
      "cell_type": "code",
      "metadata": {
        "id": "fw3ho3KYhMnM"
      },
      "source": [
        "#Funções auxiliar para exibir os resultados do teste\n",
        "\n",
        "def plot_history(loss_list,  accuracy_list):\n",
        "  fig, (ax1, ax2) = plt.subplots(2, figsize=(6, 8), sharex=True)\n",
        "\n",
        "  ax1.plot(accuracy_list)\n",
        "  ax1.set_ylabel(\"validation accuracy\")\n",
        "  ax2.plot(loss_list)\n",
        "  ax2.set_ylabel(\"validation loss\")\n",
        "  ax2.set_xlabel(\"epochs\")\n",
        "  plt.show()\n",
        "\n",
        "  return\n",
        "\n",
        "def print_results(y_test, y_pred):\n",
        "  print('Matriz de Confusão: \\n' , confusion_matrix(y_test, y_pred))\n",
        "  print(classification_report(y_test, y_pred))\n",
        "  print('Acuracidade: ' , accuracy_score(y_test, y_pred))\n",
        "  return"
      ],
      "execution_count": 287,
      "outputs": []
    },
    {
      "cell_type": "code",
      "metadata": {
        "id": "NhBuFrrzQ_Mu",
        "colab": {
          "base_uri": "https://localhost:8080/",
          "height": 203
        },
        "outputId": "9c42eaed-682f-4e42-9fe7-8b700a240598"
      },
      "source": [
        "#Carregando dataset e exibindo.\n",
        "df = pd.read_csv(\"https://raw.githubusercontent.com/Rogerio-mack/work/main/drug200.csv\")\n",
        "df.head()"
      ],
      "execution_count": 288,
      "outputs": [
        {
          "output_type": "execute_result",
          "data": {
            "text/html": [
              "<div>\n",
              "<style scoped>\n",
              "    .dataframe tbody tr th:only-of-type {\n",
              "        vertical-align: middle;\n",
              "    }\n",
              "\n",
              "    .dataframe tbody tr th {\n",
              "        vertical-align: top;\n",
              "    }\n",
              "\n",
              "    .dataframe thead th {\n",
              "        text-align: right;\n",
              "    }\n",
              "</style>\n",
              "<table border=\"1\" class=\"dataframe\">\n",
              "  <thead>\n",
              "    <tr style=\"text-align: right;\">\n",
              "      <th></th>\n",
              "      <th>Age</th>\n",
              "      <th>Sex</th>\n",
              "      <th>BP</th>\n",
              "      <th>Cholesterol</th>\n",
              "      <th>Na_to_K</th>\n",
              "      <th>Drug</th>\n",
              "    </tr>\n",
              "  </thead>\n",
              "  <tbody>\n",
              "    <tr>\n",
              "      <th>0</th>\n",
              "      <td>23</td>\n",
              "      <td>F</td>\n",
              "      <td>HIGH</td>\n",
              "      <td>HIGH</td>\n",
              "      <td>25.355</td>\n",
              "      <td>DrugY</td>\n",
              "    </tr>\n",
              "    <tr>\n",
              "      <th>1</th>\n",
              "      <td>47</td>\n",
              "      <td>M</td>\n",
              "      <td>LOW</td>\n",
              "      <td>HIGH</td>\n",
              "      <td>13.093</td>\n",
              "      <td>drugC</td>\n",
              "    </tr>\n",
              "    <tr>\n",
              "      <th>2</th>\n",
              "      <td>47</td>\n",
              "      <td>M</td>\n",
              "      <td>LOW</td>\n",
              "      <td>HIGH</td>\n",
              "      <td>10.114</td>\n",
              "      <td>drugC</td>\n",
              "    </tr>\n",
              "    <tr>\n",
              "      <th>3</th>\n",
              "      <td>28</td>\n",
              "      <td>F</td>\n",
              "      <td>NORMAL</td>\n",
              "      <td>HIGH</td>\n",
              "      <td>7.798</td>\n",
              "      <td>drugX</td>\n",
              "    </tr>\n",
              "    <tr>\n",
              "      <th>4</th>\n",
              "      <td>61</td>\n",
              "      <td>F</td>\n",
              "      <td>LOW</td>\n",
              "      <td>HIGH</td>\n",
              "      <td>18.043</td>\n",
              "      <td>DrugY</td>\n",
              "    </tr>\n",
              "  </tbody>\n",
              "</table>\n",
              "</div>"
            ],
            "text/plain": [
              "   Age Sex      BP Cholesterol  Na_to_K   Drug\n",
              "0   23   F    HIGH        HIGH   25.355  DrugY\n",
              "1   47   M     LOW        HIGH   13.093  drugC\n",
              "2   47   M     LOW        HIGH   10.114  drugC\n",
              "3   28   F  NORMAL        HIGH    7.798  drugX\n",
              "4   61   F     LOW        HIGH   18.043  DrugY"
            ]
          },
          "metadata": {},
          "execution_count": 288
        }
      ]
    },
    {
      "cell_type": "code",
      "metadata": {
        "colab": {
          "base_uri": "https://localhost:8080/"
        },
        "id": "5TLRlK4mvAIx",
        "outputId": "5c360621-2a47-4d79-84b9-e73e859e4c80"
      },
      "source": [
        "#Avaliando o Modelo\n",
        "print(\"Valores NaN:\")\n",
        "print(df.isna().sum())\n",
        "\n",
        "print(\"\\n\\nValores nulos:\")\n",
        "print(df.isnull().sum())"
      ],
      "execution_count": 289,
      "outputs": [
        {
          "output_type": "stream",
          "name": "stdout",
          "text": [
            "Valores NaN:\n",
            "Age            0\n",
            "Sex            0\n",
            "BP             0\n",
            "Cholesterol    0\n",
            "Na_to_K        0\n",
            "Drug           0\n",
            "dtype: int64\n",
            "\n",
            "\n",
            "Valores nulos:\n",
            "Age            0\n",
            "Sex            0\n",
            "BP             0\n",
            "Cholesterol    0\n",
            "Na_to_K        0\n",
            "Drug           0\n",
            "dtype: int64\n"
          ]
        }
      ]
    },
    {
      "cell_type": "code",
      "metadata": {
        "id": "N8GbMtmeRA1W",
        "colab": {
          "base_uri": "https://localhost:8080/",
          "height": 203
        },
        "outputId": "38d6920a-eb3a-4a1b-9240-a143649b8a72"
      },
      "source": [
        "#Fazendo a discretização das colunas \"Sex\", \"BP\", \"Cholesterol\"\n",
        "coluna = [\"BP\", \"Cholesterol\"]\n",
        "for col in coluna:\n",
        "  dummies = pd.get_dummies(df[col], prefix=col)\n",
        "  df = pd.concat([df, dummies], axis = 1)\n",
        "  df.drop(columns=[col], inplace=True)\n",
        "df['Sex'] = df['Sex'].map({'F': 0, 'M': 1})\n",
        "df.head()"
      ],
      "execution_count": 290,
      "outputs": [
        {
          "output_type": "execute_result",
          "data": {
            "text/html": [
              "<div>\n",
              "<style scoped>\n",
              "    .dataframe tbody tr th:only-of-type {\n",
              "        vertical-align: middle;\n",
              "    }\n",
              "\n",
              "    .dataframe tbody tr th {\n",
              "        vertical-align: top;\n",
              "    }\n",
              "\n",
              "    .dataframe thead th {\n",
              "        text-align: right;\n",
              "    }\n",
              "</style>\n",
              "<table border=\"1\" class=\"dataframe\">\n",
              "  <thead>\n",
              "    <tr style=\"text-align: right;\">\n",
              "      <th></th>\n",
              "      <th>Age</th>\n",
              "      <th>Sex</th>\n",
              "      <th>Na_to_K</th>\n",
              "      <th>Drug</th>\n",
              "      <th>BP_HIGH</th>\n",
              "      <th>BP_LOW</th>\n",
              "      <th>BP_NORMAL</th>\n",
              "      <th>Cholesterol_HIGH</th>\n",
              "      <th>Cholesterol_NORMAL</th>\n",
              "    </tr>\n",
              "  </thead>\n",
              "  <tbody>\n",
              "    <tr>\n",
              "      <th>0</th>\n",
              "      <td>23</td>\n",
              "      <td>0</td>\n",
              "      <td>25.355</td>\n",
              "      <td>DrugY</td>\n",
              "      <td>1</td>\n",
              "      <td>0</td>\n",
              "      <td>0</td>\n",
              "      <td>1</td>\n",
              "      <td>0</td>\n",
              "    </tr>\n",
              "    <tr>\n",
              "      <th>1</th>\n",
              "      <td>47</td>\n",
              "      <td>1</td>\n",
              "      <td>13.093</td>\n",
              "      <td>drugC</td>\n",
              "      <td>0</td>\n",
              "      <td>1</td>\n",
              "      <td>0</td>\n",
              "      <td>1</td>\n",
              "      <td>0</td>\n",
              "    </tr>\n",
              "    <tr>\n",
              "      <th>2</th>\n",
              "      <td>47</td>\n",
              "      <td>1</td>\n",
              "      <td>10.114</td>\n",
              "      <td>drugC</td>\n",
              "      <td>0</td>\n",
              "      <td>1</td>\n",
              "      <td>0</td>\n",
              "      <td>1</td>\n",
              "      <td>0</td>\n",
              "    </tr>\n",
              "    <tr>\n",
              "      <th>3</th>\n",
              "      <td>28</td>\n",
              "      <td>0</td>\n",
              "      <td>7.798</td>\n",
              "      <td>drugX</td>\n",
              "      <td>0</td>\n",
              "      <td>0</td>\n",
              "      <td>1</td>\n",
              "      <td>1</td>\n",
              "      <td>0</td>\n",
              "    </tr>\n",
              "    <tr>\n",
              "      <th>4</th>\n",
              "      <td>61</td>\n",
              "      <td>0</td>\n",
              "      <td>18.043</td>\n",
              "      <td>DrugY</td>\n",
              "      <td>0</td>\n",
              "      <td>1</td>\n",
              "      <td>0</td>\n",
              "      <td>1</td>\n",
              "      <td>0</td>\n",
              "    </tr>\n",
              "  </tbody>\n",
              "</table>\n",
              "</div>"
            ],
            "text/plain": [
              "   Age  Sex  Na_to_K  ... BP_NORMAL  Cholesterol_HIGH  Cholesterol_NORMAL\n",
              "0   23    0   25.355  ...         0                 1                   0\n",
              "1   47    1   13.093  ...         0                 1                   0\n",
              "2   47    1   10.114  ...         0                 1                   0\n",
              "3   28    0    7.798  ...         1                 1                   0\n",
              "4   61    0   18.043  ...         0                 1                   0\n",
              "\n",
              "[5 rows x 9 columns]"
            ]
          },
          "metadata": {},
          "execution_count": 290
        }
      ]
    },
    {
      "cell_type": "code",
      "metadata": {
        "colab": {
          "base_uri": "https://localhost:8080/"
        },
        "id": "298_RvbcR9q_",
        "outputId": "277ccffa-286d-4309-a674-72404276d494"
      },
      "source": [
        "#Padronizando os dados\n",
        "scale = StandardScaler()\n",
        "X = scale.fit_transform(df.drop(columns=[\"Drug\"]))\n",
        "print(X)"
      ],
      "execution_count": 291,
      "outputs": [
        {
          "output_type": "stream",
          "name": "stdout",
          "text": [
            "[[-1.29159102 -1.040833    1.28652212 ... -0.64686916  0.97043679\n",
            "  -0.97043679]\n",
            " [ 0.16269866  0.96076892 -0.4151454  ... -0.64686916  0.97043679\n",
            "  -0.97043679]\n",
            " [ 0.16269866  0.96076892 -0.82855818 ... -0.64686916  0.97043679\n",
            "  -0.97043679]\n",
            " ...\n",
            " [ 0.46567567  0.96076892 -0.85908883 ...  1.54590766  0.97043679\n",
            "  -0.97043679]\n",
            " [-1.29159102  0.96076892 -0.28650033 ...  1.54590766 -1.03046381\n",
            "   1.03046381]\n",
            " [-0.26146916 -1.040833   -0.6571702  ... -0.64686916 -1.03046381\n",
            "   1.03046381]]\n"
          ]
        }
      ]
    },
    {
      "cell_type": "code",
      "metadata": {
        "id": "ED6VgfxsJhCK"
      },
      "source": [
        "#Fazendo Hot Encode dos alvos\n",
        "y = pd.get_dummies(df[\"Drug\"], prefix=\"Drug\")\n",
        "y = y.to_numpy()"
      ],
      "execution_count": 292,
      "outputs": []
    },
    {
      "cell_type": "code",
      "metadata": {
        "id": "XhHHAlteR28s"
      },
      "source": [
        "#Dividindo o dataset entre o conjunto de treinamento e teste.\n",
        "X_train, X_test, y_train, y_test = train_test_split(X, y, test_size=0.3, random_state=123)\n",
        "\n",
        "#Convertendo elementos para tensores do Pytorch\n",
        "X_train = Variable(torch.from_numpy(X_train)).float()\n",
        "y_train = Variable(torch.from_numpy(y_train)).float()\n",
        "X_test  = Variable(torch.from_numpy(X_test)).float()\n",
        "y_test  = Variable(torch.from_numpy(y_test)).float()"
      ],
      "execution_count": 293,
      "outputs": []
    },
    {
      "cell_type": "code",
      "metadata": {
        "id": "nPk54xMPR41T"
      },
      "source": [
        "#Definindo modelo\n",
        "class Model(nn.Module):\n",
        "    def __init__(self, input_dim, flag):\n",
        "        super(Model, self).__init__()\n",
        "        #Caso a variavel flag seja igual a 1, o modelo tera Dropout\n",
        "        if flag == 1:\n",
        "          self.layers = nn.Sequential(\n",
        "            nn.Linear(input_dim, 15),\n",
        "            nn.Dropout(p=0.1),\n",
        "            nn.Linear(15, 10),\n",
        "            nn.Dropout(p=0.1),\n",
        "            nn.Linear(10, 5)\n",
        "          )\n",
        "        else:\n",
        "          self.layers = nn.Sequential(\n",
        "            nn.Linear(input_dim, 15),\n",
        "            nn.Linear(15, 10),\n",
        "            nn.Linear(10, 5)\n",
        "          )\n",
        "        \n",
        "    def forward(self, x):\n",
        "        x = self.layers(x)\n",
        "        return x"
      ],
      "execution_count": 294,
      "outputs": []
    },
    {
      "cell_type": "code",
      "metadata": {
        "id": "S2GBL18o_w1m",
        "colab": {
          "base_uri": "https://localhost:8080/",
          "height": 950
        },
        "outputId": "ca40fba2-911a-4dee-a59d-b8183f0fd1ef"
      },
      "source": [
        "#Inicializando modelo\n",
        "model = Model(X_train.shape[1], flag=0)\n",
        "optimizer = torch.optim.Adam(model.parameters(), lr=0.001)\n",
        "loss_fn = nn.CrossEntropyLoss()\n",
        "print(model)\n",
        "\n",
        "#Treinando modelo sem Dropout\n",
        "\n",
        "EPOCHS  = 200\n",
        "\n",
        "loss_list     = np.zeros((EPOCHS,))\n",
        "accuracy_list = np.zeros((EPOCHS,))\n",
        "\n",
        "for epoch in tqdm.trange(EPOCHS):\n",
        "    y_pred = model(X_train)\n",
        "    loss = loss_fn(y_pred, y_train)\n",
        "    loss_list[epoch] = loss.item()\n",
        "    \n",
        "    # Zero gradients\n",
        "    optimizer.zero_grad()\n",
        "    loss.backward()\n",
        "    optimizer.step()\n",
        "    \n",
        "    with torch.no_grad():\n",
        "        y_pred = model(X_test)\n",
        "        correct = (torch.argmax(y_pred, dim=1) == torch.argmax(y_test, dim=1)).type(torch.FloatTensor)\n",
        "        accuracy_list[epoch] = correct.mean()\n",
        "\n",
        "plot_history(loss_list,  accuracy_list) \n",
        "print_results(torch.argmax(y_pred, dim=1), torch.argmax(y_test, dim=1))"
      ],
      "execution_count": 295,
      "outputs": [
        {
          "output_type": "stream",
          "name": "stdout",
          "text": [
            "Model(\n",
            "  (layers): Sequential(\n",
            "    (0): Linear(in_features=8, out_features=15, bias=True)\n",
            "    (1): Linear(in_features=15, out_features=10, bias=True)\n",
            "    (2): Linear(in_features=10, out_features=5, bias=True)\n",
            "  )\n",
            ")\n"
          ]
        },
        {
          "output_type": "stream",
          "name": "stderr",
          "text": [
            "100%|██████████| 200/200 [00:00<00:00, 945.09it/s] \n"
          ]
        },
        {
          "output_type": "display_data",
          "data": {
            "image/png": "[encoded data removed]",
            "text/plain": [
              "<Figure size 432x576 with 2 Axes>"
            ]
          },
          "metadata": {
            "needs_background": "light"
          }
        },
        {
          "output_type": "stream",
          "name": "stdout",
          "text": [
            "Matriz de Confusão: \n",
            " [[27  0  0  0  0]\n",
            " [ 1  6  3  0  0]\n",
            " [ 0  0  3  0  0]\n",
            " [ 1  0  0  4  0]\n",
            " [ 3  0  0  0 12]]\n",
            "              precision    recall  f1-score   support\n",
            "\n",
            "           0       0.84      1.00      0.92        27\n",
            "           1       1.00      0.60      0.75        10\n",
            "           2       0.50      1.00      0.67         3\n",
            "           3       1.00      0.80      0.89         5\n",
            "           4       1.00      0.80      0.89        15\n",
            "\n",
            "    accuracy                           0.87        60\n",
            "   macro avg       0.87      0.84      0.82        60\n",
            "weighted avg       0.90      0.87      0.87        60\n",
            "\n",
            "Acuracidade:  0.8666666666666667\n"
          ]
        }
      ]
    },
    {
      "cell_type": "code",
      "metadata": {
        "colab": {
          "base_uri": "https://localhost:8080/",
          "height": 1000
        },
        "id": "Yf6EEy-OyDW3",
        "outputId": "1f435fe5-154d-4a39-a45f-ef2dec48fbe4"
      },
      "source": [
        "#Inicializando modelo\n",
        "model = Model(X_train.shape[1], flag=1)\n",
        "optimizer = torch.optim.Adam(model.parameters(), lr=0.001)\n",
        "loss_fn = nn.CrossEntropyLoss()\n",
        "print(model)\n",
        "\n",
        "#Treinando modelo sem Dropout\n",
        "\n",
        "EPOCHS  = 200\n",
        "\n",
        "loss_list     = np.zeros((EPOCHS,))\n",
        "accuracy_list = np.zeros((EPOCHS,))\n",
        "\n",
        "for epoch in tqdm.trange(EPOCHS):\n",
        "    y_pred = model(X_train)\n",
        "    loss = loss_fn(y_pred, y_train)\n",
        "    loss_list[epoch] = loss.item()\n",
        "    \n",
        "    # Zero gradients\n",
        "    optimizer.zero_grad()\n",
        "    loss.backward()\n",
        "    optimizer.step()\n",
        "    \n",
        "    with torch.no_grad():\n",
        "        y_pred = model(X_test)\n",
        "        correct = (torch.argmax(y_pred, dim=1) == torch.argmax(y_test, dim=1)).type(torch.FloatTensor)\n",
        "        accuracy_list[epoch] = correct.mean()\n",
        "\n",
        "plot_history(loss_list,  accuracy_list) \n",
        "print_results(torch.argmax(y_pred, dim=1), torch.argmax(y_test, dim=1))"
      ],
      "execution_count": 296,
      "outputs": [
        {
          "output_type": "stream",
          "name": "stdout",
          "text": [
            "Model(\n",
            "  (layers): Sequential(\n",
            "    (0): Linear(in_features=8, out_features=15, bias=True)\n",
            "    (1): Dropout(p=0.1, inplace=False)\n",
            "    (2): Linear(in_features=15, out_features=10, bias=True)\n",
            "    (3): Dropout(p=0.1, inplace=False)\n",
            "    (4): Linear(in_features=10, out_features=5, bias=True)\n",
            "  )\n",
            ")\n"
          ]
        },
        {
          "output_type": "stream",
          "name": "stderr",
          "text": [
            "100%|██████████| 200/200 [00:00<00:00, 832.83it/s]\n"
          ]
        },
        {
          "output_type": "display_data",
          "data": {
            "image/png": "[encoded data removed]",
            "text/plain": [
              "<Figure size 432x576 with 2 Axes>"
            ]
          },
          "metadata": {
            "needs_background": "light"
          }
        },
        {
          "output_type": "stream",
          "name": "stdout",
          "text": [
            "Matriz de Confusão: \n",
            " [[28  0  1  0  0]\n",
            " [ 1  6  5  0  0]\n",
            " [ 0  0  0  0  0]\n",
            " [ 1  0  0  3  0]\n",
            " [ 2  0  0  1 12]]\n",
            "              precision    recall  f1-score   support\n",
            "\n",
            "           0       0.88      0.97      0.92        29\n",
            "           1       1.00      0.50      0.67        12\n",
            "           2       0.00      0.00      0.00         0\n",
            "           3       0.75      0.75      0.75         4\n",
            "           4       1.00      0.80      0.89        15\n",
            "\n",
            "    accuracy                           0.82        60\n",
            "   macro avg       0.72      0.60      0.64        60\n",
            "weighted avg       0.92      0.82      0.85        60\n",
            "\n",
            "Acuracidade:  0.8166666666666667\n"
          ]
        },
        {
          "output_type": "stream",
          "name": "stderr",
          "text": [
            "/usr/local/lib/python3.7/dist-packages/sklearn/metrics/_classification.py:1308: UndefinedMetricWarning: Recall and F-score are ill-defined and being set to 0.0 in labels with no true samples. Use `zero_division` parameter to control this behavior.\n",
            "  _warn_prf(average, modifier, msg_start, len(result))\n",
            "/usr/local/lib/python3.7/dist-packages/sklearn/metrics/_classification.py:1308: UndefinedMetricWarning: Recall and F-score are ill-defined and being set to 0.0 in labels with no true samples. Use `zero_division` parameter to control this behavior.\n",
            "  _warn_prf(average, modifier, msg_start, len(result))\n",
            "/usr/local/lib/python3.7/dist-packages/sklearn/metrics/_classification.py:1308: UndefinedMetricWarning: Recall and F-score are ill-defined and being set to 0.0 in labels with no true samples. Use `zero_division` parameter to control this behavior.\n",
            "  _warn_prf(average, modifier, msg_start, len(result))\n"
          ]
        }
      ]
    },
    {
      "cell_type": "markdown",
      "metadata": {
        "id": "qCm45PbK1kMQ"
      },
      "source": [
        "# **Conclusão**\n",
        "Como o dataset escolhido é pequeno, o o método de Dropout o deixa ainda menor, concluo que não foi necessario a utilização dele, obtendo uma acurácia maior quando ele não esta presente. Além disso, o Dropout resultou com em erros na hora de calcular as medidas de desempenho."
      ]
    }
  ]
}