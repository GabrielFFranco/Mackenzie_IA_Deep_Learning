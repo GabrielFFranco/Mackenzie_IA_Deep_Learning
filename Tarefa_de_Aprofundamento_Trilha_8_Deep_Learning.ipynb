{
  "nbformat": 4,
  "nbformat_minor": 0,
  "metadata": {
    "colab": {
      "name": "Tarefa de Aprofundamento Trilha 8 Deep Learning.ipynb",
      "provenance": [],
      "collapsed_sections": [],
      "mount_file_id": "1nvj4XkWYIrNzx1dfcgMKKXMTjFktqYWt",
      "authorship_tag": "ABX9TyOjPNfQKuIzHmQFpvz7UEL+",
      "include_colab_link": true
    },
    "kernelspec": {
      "name": "python3",
      "display_name": "Python 3"
    },
    "language_info": {
      "name": "python"
    }
  },
  "cells": [
    {
      "cell_type": "markdown",
      "metadata": {
        "id": "view-in-github",
        "colab_type": "text"
      },
      "source": [
        "<a href=\"https://colab.research.google.com/github/GabrielFFranco/Mackenzie_IA_Deep_Learning/blob/main/Tarefa_de_Aprofundamento_Trilha_8_Deep_Learning.ipynb\" target=\"_parent\"><img src=\"https://colab.research.google.com/assets/colab-badge.svg\" alt=\"Open In Colab\"/></a>"
      ]
    },
    {
      "cell_type": "markdown",
      "metadata": {
        "id": "Iuwjm7NX8M5J"
      },
      "source": [
        "# **Classificação de Dogras com e sem Keras Tuner**\n",
        "## **Aluno: Gabriel Ferreira Franco**\n",
        "\n",
        "O dataset escolhido para atividade determina qual tipo de medicamento o paciente deve tomar baseado na sua idade, sexo, pressão arterial, nivel de colesterol e o nivel de sódio e potassio no sangue.\n",
        "\n",
        "Dataset disponível em: https://www.kaggle.com/prathamtripathi/drug-classification\n",
        "\n",
        "Código disponível em: https://github.com/GabrielFFranco/Mackenzie_IA_Deep_Learning/blob/main/Tarefa_de_Aprofundamento_Trilha_8_Deep_Learning.ipynb\n",
        "\n"
      ]
    },
    {
      "cell_type": "code",
      "source": [
        "!pip install -q -U keras-tuner"
      ],
      "metadata": {
        "id": "-DqHIEjscoN2",
        "colab": {
          "base_uri": "https://localhost:8080/"
        },
        "outputId": "ad66046e-4f68-46ea-ec8e-ee7f2a4b926b"
      },
      "execution_count": null,
      "outputs": [
        {
          "output_type": "stream",
          "name": "stdout",
          "text": [
            "\u001b[?25l\r\u001b[K     |███▍                            | 10 kB 27.7 MB/s eta 0:00:01\r\u001b[K     |██████▊                         | 20 kB 13.1 MB/s eta 0:00:01\r\u001b[K     |██████████                      | 30 kB 7.9 MB/s eta 0:00:01\r\u001b[K     |█████████████▍                  | 40 kB 3.8 MB/s eta 0:00:01\r\u001b[K     |████████████████▊               | 51 kB 4.3 MB/s eta 0:00:01\r\u001b[K     |████████████████████            | 61 kB 4.5 MB/s eta 0:00:01\r\u001b[K     |███████████████████████▍        | 71 kB 4.6 MB/s eta 0:00:01\r\u001b[K     |██████████████████████████▊     | 81 kB 5.2 MB/s eta 0:00:01\r\u001b[K     |██████████████████████████████  | 92 kB 5.1 MB/s eta 0:00:01\r\u001b[K     |████████████████████████████████| 98 kB 3.1 MB/s \n",
            "\u001b[?25h"
          ]
        }
      ]
    },
    {
      "cell_type": "code",
      "metadata": {
        "id": "u2gpEEH-ruLW"
      },
      "source": [
        "#Fazendo as importações das bibliotecas.\n",
        "import pandas as pd\n",
        "import numpy as np\n",
        "from sklearn.preprocessing import scale\n",
        "from sklearn.model_selection import train_test_split\n",
        "from tensorflow import keras\n",
        "from tensorflow.keras import layers\n",
        "from keras.layers import Dropout\n",
        "import tensorflow as tf\n",
        "import keras_tuner as kt\n",
        "from sklearn.metrics import confusion_matrix, classification_report, accuracy_score"
      ],
      "execution_count": null,
      "outputs": []
    },
    {
      "cell_type": "code",
      "metadata": {
        "colab": {
          "base_uri": "https://localhost:8080/",
          "height": 203
        },
        "id": "edafktPs6w5y",
        "outputId": "b7236fd4-95e1-4242-9870-b477b0e3243c"
      },
      "source": [
        "#Carregando dataset e exibindo.\n",
        "df = pd.read_csv(\"https://raw.githubusercontent.com/Rogerio-mack/work/main/drug200.csv\")\n",
        "df.head()"
      ],
      "execution_count": null,
      "outputs": [
        {
          "output_type": "execute_result",
          "data": {
            "text/html": [
              "<div>\n",
              "<style scoped>\n",
              "    .dataframe tbody tr th:only-of-type {\n",
              "        vertical-align: middle;\n",
              "    }\n",
              "\n",
              "    .dataframe tbody tr th {\n",
              "        vertical-align: top;\n",
              "    }\n",
              "\n",
              "    .dataframe thead th {\n",
              "        text-align: right;\n",
              "    }\n",
              "</style>\n",
              "<table border=\"1\" class=\"dataframe\">\n",
              "  <thead>\n",
              "    <tr style=\"text-align: right;\">\n",
              "      <th></th>\n",
              "      <th>Age</th>\n",
              "      <th>Sex</th>\n",
              "      <th>BP</th>\n",
              "      <th>Cholesterol</th>\n",
              "      <th>Na_to_K</th>\n",
              "      <th>Drug</th>\n",
              "    </tr>\n",
              "  </thead>\n",
              "  <tbody>\n",
              "    <tr>\n",
              "      <th>0</th>\n",
              "      <td>23</td>\n",
              "      <td>F</td>\n",
              "      <td>HIGH</td>\n",
              "      <td>HIGH</td>\n",
              "      <td>25.355</td>\n",
              "      <td>DrugY</td>\n",
              "    </tr>\n",
              "    <tr>\n",
              "      <th>1</th>\n",
              "      <td>47</td>\n",
              "      <td>M</td>\n",
              "      <td>LOW</td>\n",
              "      <td>HIGH</td>\n",
              "      <td>13.093</td>\n",
              "      <td>drugC</td>\n",
              "    </tr>\n",
              "    <tr>\n",
              "      <th>2</th>\n",
              "      <td>47</td>\n",
              "      <td>M</td>\n",
              "      <td>LOW</td>\n",
              "      <td>HIGH</td>\n",
              "      <td>10.114</td>\n",
              "      <td>drugC</td>\n",
              "    </tr>\n",
              "    <tr>\n",
              "      <th>3</th>\n",
              "      <td>28</td>\n",
              "      <td>F</td>\n",
              "      <td>NORMAL</td>\n",
              "      <td>HIGH</td>\n",
              "      <td>7.798</td>\n",
              "      <td>drugX</td>\n",
              "    </tr>\n",
              "    <tr>\n",
              "      <th>4</th>\n",
              "      <td>61</td>\n",
              "      <td>F</td>\n",
              "      <td>LOW</td>\n",
              "      <td>HIGH</td>\n",
              "      <td>18.043</td>\n",
              "      <td>DrugY</td>\n",
              "    </tr>\n",
              "  </tbody>\n",
              "</table>\n",
              "</div>"
            ],
            "text/plain": [
              "   Age Sex      BP Cholesterol  Na_to_K   Drug\n",
              "0   23   F    HIGH        HIGH   25.355  DrugY\n",
              "1   47   M     LOW        HIGH   13.093  drugC\n",
              "2   47   M     LOW        HIGH   10.114  drugC\n",
              "3   28   F  NORMAL        HIGH    7.798  drugX\n",
              "4   61   F     LOW        HIGH   18.043  DrugY"
            ]
          },
          "metadata": {},
          "execution_count": 3
        }
      ]
    },
    {
      "cell_type": "code",
      "metadata": {
        "colab": {
          "base_uri": "https://localhost:8080/"
        },
        "id": "d75ymNe265SJ",
        "outputId": "a494f998-edb0-4d2d-bb4b-7576e6ed4c8f"
      },
      "source": [
        "#Verificando se há valores nulos.\n",
        "print(df.isnull().sum())"
      ],
      "execution_count": null,
      "outputs": [
        {
          "output_type": "stream",
          "name": "stdout",
          "text": [
            "Age            0\n",
            "Sex            0\n",
            "BP             0\n",
            "Cholesterol    0\n",
            "Na_to_K        0\n",
            "Drug           0\n",
            "dtype: int64\n"
          ]
        }
      ]
    },
    {
      "cell_type": "code",
      "metadata": {
        "colab": {
          "base_uri": "https://localhost:8080/",
          "height": 203
        },
        "id": "o248h9KBbMiA",
        "outputId": "d2b6a988-8887-49cc-94bd-f60116ee42cf"
      },
      "source": [
        "#Fazendo a discretização das colunas \"Sex\", \"BP\", \"Cholesterol\"\n",
        "coluna = [\"BP\", \"Cholesterol\"]\n",
        "for col in coluna:\n",
        "  dummies = pd.get_dummies(df[col], prefix=col)\n",
        "  df = pd.concat([df, dummies], axis = 1)\n",
        "  df.drop(columns=[col], inplace=True)\n",
        "df['Sex'] = df['Sex'].map({'F': 0, 'M': 1})\n",
        "df.head()"
      ],
      "execution_count": null,
      "outputs": [
        {
          "output_type": "execute_result",
          "data": {
            "text/html": [
              "<div>\n",
              "<style scoped>\n",
              "    .dataframe tbody tr th:only-of-type {\n",
              "        vertical-align: middle;\n",
              "    }\n",
              "\n",
              "    .dataframe tbody tr th {\n",
              "        vertical-align: top;\n",
              "    }\n",
              "\n",
              "    .dataframe thead th {\n",
              "        text-align: right;\n",
              "    }\n",
              "</style>\n",
              "<table border=\"1\" class=\"dataframe\">\n",
              "  <thead>\n",
              "    <tr style=\"text-align: right;\">\n",
              "      <th></th>\n",
              "      <th>Age</th>\n",
              "      <th>Sex</th>\n",
              "      <th>Na_to_K</th>\n",
              "      <th>Drug</th>\n",
              "      <th>BP_HIGH</th>\n",
              "      <th>BP_LOW</th>\n",
              "      <th>BP_NORMAL</th>\n",
              "      <th>Cholesterol_HIGH</th>\n",
              "      <th>Cholesterol_NORMAL</th>\n",
              "    </tr>\n",
              "  </thead>\n",
              "  <tbody>\n",
              "    <tr>\n",
              "      <th>0</th>\n",
              "      <td>23</td>\n",
              "      <td>0</td>\n",
              "      <td>25.355</td>\n",
              "      <td>DrugY</td>\n",
              "      <td>1</td>\n",
              "      <td>0</td>\n",
              "      <td>0</td>\n",
              "      <td>1</td>\n",
              "      <td>0</td>\n",
              "    </tr>\n",
              "    <tr>\n",
              "      <th>1</th>\n",
              "      <td>47</td>\n",
              "      <td>1</td>\n",
              "      <td>13.093</td>\n",
              "      <td>drugC</td>\n",
              "      <td>0</td>\n",
              "      <td>1</td>\n",
              "      <td>0</td>\n",
              "      <td>1</td>\n",
              "      <td>0</td>\n",
              "    </tr>\n",
              "    <tr>\n",
              "      <th>2</th>\n",
              "      <td>47</td>\n",
              "      <td>1</td>\n",
              "      <td>10.114</td>\n",
              "      <td>drugC</td>\n",
              "      <td>0</td>\n",
              "      <td>1</td>\n",
              "      <td>0</td>\n",
              "      <td>1</td>\n",
              "      <td>0</td>\n",
              "    </tr>\n",
              "    <tr>\n",
              "      <th>3</th>\n",
              "      <td>28</td>\n",
              "      <td>0</td>\n",
              "      <td>7.798</td>\n",
              "      <td>drugX</td>\n",
              "      <td>0</td>\n",
              "      <td>0</td>\n",
              "      <td>1</td>\n",
              "      <td>1</td>\n",
              "      <td>0</td>\n",
              "    </tr>\n",
              "    <tr>\n",
              "      <th>4</th>\n",
              "      <td>61</td>\n",
              "      <td>0</td>\n",
              "      <td>18.043</td>\n",
              "      <td>DrugY</td>\n",
              "      <td>0</td>\n",
              "      <td>1</td>\n",
              "      <td>0</td>\n",
              "      <td>1</td>\n",
              "      <td>0</td>\n",
              "    </tr>\n",
              "  </tbody>\n",
              "</table>\n",
              "</div>"
            ],
            "text/plain": [
              "   Age  Sex  Na_to_K  ... BP_NORMAL  Cholesterol_HIGH  Cholesterol_NORMAL\n",
              "0   23    0   25.355  ...         0                 1                   0\n",
              "1   47    1   13.093  ...         0                 1                   0\n",
              "2   47    1   10.114  ...         0                 1                   0\n",
              "3   28    0    7.798  ...         1                 1                   0\n",
              "4   61    0   18.043  ...         0                 1                   0\n",
              "\n",
              "[5 rows x 9 columns]"
            ]
          },
          "metadata": {},
          "execution_count": 5
        }
      ]
    },
    {
      "cell_type": "code",
      "metadata": {
        "id": "3Td5Av5rbeQ7",
        "colab": {
          "base_uri": "https://localhost:8080/"
        },
        "outputId": "30b946ea-6630-4b9f-f4e8-e6704e79a7c9"
      },
      "source": [
        "#Padronizando os dados\n",
        "X = scale(df.drop(columns=[\"Drug\"]))\n",
        "print(X)"
      ],
      "execution_count": null,
      "outputs": [
        {
          "output_type": "stream",
          "name": "stdout",
          "text": [
            "[[-1.29159102 -1.040833    1.28652212 ... -0.64686916  0.97043679\n",
            "  -0.97043679]\n",
            " [ 0.16269866  0.96076892 -0.4151454  ... -0.64686916  0.97043679\n",
            "  -0.97043679]\n",
            " [ 0.16269866  0.96076892 -0.82855818 ... -0.64686916  0.97043679\n",
            "  -0.97043679]\n",
            " ...\n",
            " [ 0.46567567  0.96076892 -0.85908883 ...  1.54590766  0.97043679\n",
            "  -0.97043679]\n",
            " [-1.29159102  0.96076892 -0.28650033 ...  1.54590766 -1.03046381\n",
            "   1.03046381]\n",
            " [-0.26146916 -1.040833   -0.6571702  ... -0.64686916 -1.03046381\n",
            "   1.03046381]]\n"
          ]
        }
      ]
    },
    {
      "cell_type": "code",
      "metadata": {
        "colab": {
          "base_uri": "https://localhost:8080/",
          "height": 326
        },
        "id": "U36Ve2neLn7I",
        "outputId": "05e594fd-e3c3-4344-f79f-11c8b7494f2c"
      },
      "source": [
        "#Fazendo a discretização dos valores alvos\n",
        "y = pd.get_dummies(df[\"Drug\"])\n",
        "y.head(9)"
      ],
      "execution_count": null,
      "outputs": [
        {
          "output_type": "execute_result",
          "data": {
            "text/html": [
              "<div>\n",
              "<style scoped>\n",
              "    .dataframe tbody tr th:only-of-type {\n",
              "        vertical-align: middle;\n",
              "    }\n",
              "\n",
              "    .dataframe tbody tr th {\n",
              "        vertical-align: top;\n",
              "    }\n",
              "\n",
              "    .dataframe thead th {\n",
              "        text-align: right;\n",
              "    }\n",
              "</style>\n",
              "<table border=\"1\" class=\"dataframe\">\n",
              "  <thead>\n",
              "    <tr style=\"text-align: right;\">\n",
              "      <th></th>\n",
              "      <th>DrugY</th>\n",
              "      <th>drugA</th>\n",
              "      <th>drugB</th>\n",
              "      <th>drugC</th>\n",
              "      <th>drugX</th>\n",
              "    </tr>\n",
              "  </thead>\n",
              "  <tbody>\n",
              "    <tr>\n",
              "      <th>0</th>\n",
              "      <td>1</td>\n",
              "      <td>0</td>\n",
              "      <td>0</td>\n",
              "      <td>0</td>\n",
              "      <td>0</td>\n",
              "    </tr>\n",
              "    <tr>\n",
              "      <th>1</th>\n",
              "      <td>0</td>\n",
              "      <td>0</td>\n",
              "      <td>0</td>\n",
              "      <td>1</td>\n",
              "      <td>0</td>\n",
              "    </tr>\n",
              "    <tr>\n",
              "      <th>2</th>\n",
              "      <td>0</td>\n",
              "      <td>0</td>\n",
              "      <td>0</td>\n",
              "      <td>1</td>\n",
              "      <td>0</td>\n",
              "    </tr>\n",
              "    <tr>\n",
              "      <th>3</th>\n",
              "      <td>0</td>\n",
              "      <td>0</td>\n",
              "      <td>0</td>\n",
              "      <td>0</td>\n",
              "      <td>1</td>\n",
              "    </tr>\n",
              "    <tr>\n",
              "      <th>4</th>\n",
              "      <td>1</td>\n",
              "      <td>0</td>\n",
              "      <td>0</td>\n",
              "      <td>0</td>\n",
              "      <td>0</td>\n",
              "    </tr>\n",
              "    <tr>\n",
              "      <th>5</th>\n",
              "      <td>0</td>\n",
              "      <td>0</td>\n",
              "      <td>0</td>\n",
              "      <td>0</td>\n",
              "      <td>1</td>\n",
              "    </tr>\n",
              "    <tr>\n",
              "      <th>6</th>\n",
              "      <td>1</td>\n",
              "      <td>0</td>\n",
              "      <td>0</td>\n",
              "      <td>0</td>\n",
              "      <td>0</td>\n",
              "    </tr>\n",
              "    <tr>\n",
              "      <th>7</th>\n",
              "      <td>0</td>\n",
              "      <td>0</td>\n",
              "      <td>0</td>\n",
              "      <td>1</td>\n",
              "      <td>0</td>\n",
              "    </tr>\n",
              "    <tr>\n",
              "      <th>8</th>\n",
              "      <td>1</td>\n",
              "      <td>0</td>\n",
              "      <td>0</td>\n",
              "      <td>0</td>\n",
              "      <td>0</td>\n",
              "    </tr>\n",
              "  </tbody>\n",
              "</table>\n",
              "</div>"
            ],
            "text/plain": [
              "   DrugY  drugA  drugB  drugC  drugX\n",
              "0      1      0      0      0      0\n",
              "1      0      0      0      1      0\n",
              "2      0      0      0      1      0\n",
              "3      0      0      0      0      1\n",
              "4      1      0      0      0      0\n",
              "5      0      0      0      0      1\n",
              "6      1      0      0      0      0\n",
              "7      0      0      0      1      0\n",
              "8      1      0      0      0      0"
            ]
          },
          "metadata": {},
          "execution_count": 7
        }
      ]
    },
    {
      "cell_type": "code",
      "metadata": {
        "id": "8wNCEIxARxrZ"
      },
      "source": [
        "#Dividindo o dataset entre o conjunto de treinamento e teste.\n",
        "X_train, X_test, y_train, y_test = train_test_split(X, y, test_size=0.3, random_state=123)"
      ],
      "execution_count": null,
      "outputs": []
    },
    {
      "cell_type": "markdown",
      "metadata": {
        "id": "HaEQZuUYaAPM"
      },
      "source": [
        "## **Modelo de Rede Neural Manual:**\n",
        "Decidi usar uma rede neural de 3 camadas ocultas, usei a função de custo 'categorical_crossentropy' por se tratar de um modelo multiclasse. A função de ativiação e o otimizador foram escolhidos aleatóriamente."
      ]
    },
    {
      "cell_type": "code",
      "metadata": {
        "id": "CIZaOTcbU7Oq"
      },
      "source": [
        "#Declarando as camadas e neurônios do modelo\n",
        "model = keras.Sequential([\n",
        "    layers.Dense(15, activation='relu', input_shape=[8]),\n",
        "    layers.Dense(10, activation='relu'),\n",
        "    layers.Dense(5, activation='sigmoid'),\n",
        "])"
      ],
      "execution_count": null,
      "outputs": []
    },
    {
      "cell_type": "code",
      "metadata": {
        "id": "WWhf9N0Ven_1"
      },
      "source": [
        "#Compilando o modelo\n",
        "model.compile(loss='categorical_crossentropy', optimizer='adam', metrics=['accuracy'])"
      ],
      "execution_count": null,
      "outputs": []
    },
    {
      "cell_type": "code",
      "metadata": {
        "id": "IvFy5IDHfjv2"
      },
      "source": [
        "#Definindo condições de parada\n",
        "early_stopping = keras.callbacks.EarlyStopping(\n",
        "    patience=10,\n",
        "    min_delta=0.001,\n",
        "    restore_best_weights=True,\n",
        ")\n",
        "\n",
        "#Treinando o modelo\n",
        "history = model.fit(\n",
        "    X_train, y_train,\n",
        "    batch_size=32,\n",
        "    validation_split=0.4,\n",
        "    epochs=200,\n",
        "    callbacks=[early_stopping],\n",
        "    verbose=0,  \n",
        ")"
      ],
      "execution_count": null,
      "outputs": []
    },
    {
      "cell_type": "code",
      "metadata": {
        "id": "nkSkxOjyflk_"
      },
      "source": [
        "#Função auxiliar para exibir o resultado obtido\n",
        "def display_acc_hist(history):\n",
        "  history_df = pd.DataFrame(history.history)\n",
        "  display(history_df.head())\n",
        "  # Start the plot at epoch 0\n",
        "  history_df.loc[0:, ['loss', 'val_loss']].plot()\n",
        "  history_df.loc[0:, ['accuracy', 'val_accuracy']].plot()\n",
        "\n",
        "  print((\"Best Validation Loss: {:0.4f}\" +\\\n",
        "      \"\\nBest Validation Accuracy: {:0.4f}\")\\\n",
        "      .format(history_df['val_loss'].min(), \n",
        "              history_df['val_accuracy'].max()))\n",
        "  return"
      ],
      "execution_count": null,
      "outputs": []
    },
    {
      "cell_type": "code",
      "metadata": {
        "colab": {
          "base_uri": "https://localhost:8080/",
          "height": 733
        },
        "id": "mMcHcaFbfy-R",
        "outputId": "8beace49-4e07-4623-dedc-d869f62f1bbb"
      },
      "source": [
        "display_acc_hist(history)"
      ],
      "execution_count": null,
      "outputs": [
        {
          "output_type": "display_data",
          "data": {
            "text/html": [
              "<div>\n",
              "<style scoped>\n",
              "    .dataframe tbody tr th:only-of-type {\n",
              "        vertical-align: middle;\n",
              "    }\n",
              "\n",
              "    .dataframe tbody tr th {\n",
              "        vertical-align: top;\n",
              "    }\n",
              "\n",
              "    .dataframe thead th {\n",
              "        text-align: right;\n",
              "    }\n",
              "</style>\n",
              "<table border=\"1\" class=\"dataframe\">\n",
              "  <thead>\n",
              "    <tr style=\"text-align: right;\">\n",
              "      <th></th>\n",
              "      <th>loss</th>\n",
              "      <th>accuracy</th>\n",
              "      <th>val_loss</th>\n",
              "      <th>val_accuracy</th>\n",
              "    </tr>\n",
              "  </thead>\n",
              "  <tbody>\n",
              "    <tr>\n",
              "      <th>0</th>\n",
              "      <td>1.772861</td>\n",
              "      <td>0.071429</td>\n",
              "      <td>1.734444</td>\n",
              "      <td>0.089286</td>\n",
              "    </tr>\n",
              "    <tr>\n",
              "      <th>1</th>\n",
              "      <td>1.735063</td>\n",
              "      <td>0.071429</td>\n",
              "      <td>1.711437</td>\n",
              "      <td>0.089286</td>\n",
              "    </tr>\n",
              "    <tr>\n",
              "      <th>2</th>\n",
              "      <td>1.698946</td>\n",
              "      <td>0.083333</td>\n",
              "      <td>1.690301</td>\n",
              "      <td>0.107143</td>\n",
              "    </tr>\n",
              "    <tr>\n",
              "      <th>3</th>\n",
              "      <td>1.668004</td>\n",
              "      <td>0.119048</td>\n",
              "      <td>1.670354</td>\n",
              "      <td>0.125000</td>\n",
              "    </tr>\n",
              "    <tr>\n",
              "      <th>4</th>\n",
              "      <td>1.633243</td>\n",
              "      <td>0.130952</td>\n",
              "      <td>1.651536</td>\n",
              "      <td>0.160714</td>\n",
              "    </tr>\n",
              "  </tbody>\n",
              "</table>\n",
              "</div>"
            ],
            "text/plain": [
              "       loss  accuracy  val_loss  val_accuracy\n",
              "0  1.772861  0.071429  1.734444      0.089286\n",
              "1  1.735063  0.071429  1.711437      0.089286\n",
              "2  1.698946  0.083333  1.690301      0.107143\n",
              "3  1.668004  0.119048  1.670354      0.125000\n",
              "4  1.633243  0.130952  1.651536      0.160714"
            ]
          },
          "metadata": {}
        },
        {
          "output_type": "stream",
          "name": "stdout",
          "text": [
            "Best Validation Loss: 0.2864\n",
            "Best Validation Accuracy: 0.9107\n"
          ]
        },
        {
          "output_type": "display_data",
          "data": {
            "image/png": "[encoded data removed]",
            "text/plain": [
              "<Figure size 432x288 with 1 Axes>"
            ]
          },
          "metadata": {
            "needs_background": "light"
          }
        },
        {
          "output_type": "display_data",
          "data": {
            "image/png": "[encoded data removed]",
            "text/plain": [
              "<Figure size 432x288 with 1 Axes>"
            ]
          },
          "metadata": {
            "needs_background": "light"
          }
        }
      ]
    },
    {
      "cell_type": "code",
      "metadata": {
        "colab": {
          "base_uri": "https://localhost:8080/"
        },
        "id": "FpK8BrdUpEL4",
        "outputId": "4e8d5da0-8af8-45fd-8a2c-4d923c1b927a"
      },
      "source": [
        "#Testando o modelo\n",
        "y_pred = np.argmax(model.predict(X_test), axis=1)\n",
        "y_testing = np.argmax(y_test.values, axis=1)\n",
        "\n",
        "#Função auxiliar para exibir os resultados do teste\n",
        "def print_results(y_testing, y_pred):\n",
        "  print('Matriz de Confusão: \\n' , confusion_matrix(y_testing, y_pred))\n",
        "  print(classification_report(y_testing, y_pred))\n",
        "  print('Acuracidade: ' , accuracy_score(y_testing, y_pred))\n",
        "  return\n",
        "  \n",
        "print_results(y_testing, y_pred)"
      ],
      "execution_count": null,
      "outputs": [
        {
          "output_type": "stream",
          "name": "stdout",
          "text": [
            "Matriz de Confusão: \n",
            " [[28  2  1  1  0]\n",
            " [ 0  3  3  0  0]\n",
            " [ 0  1  5  0  0]\n",
            " [ 0  0  0  4  0]\n",
            " [ 0  0  0  0 12]]\n",
            "              precision    recall  f1-score   support\n",
            "\n",
            "           0       1.00      0.88      0.93        32\n",
            "           1       0.50      0.50      0.50         6\n",
            "           2       0.56      0.83      0.67         6\n",
            "           3       0.80      1.00      0.89         4\n",
            "           4       1.00      1.00      1.00        12\n",
            "\n",
            "    accuracy                           0.87        60\n",
            "   macro avg       0.77      0.84      0.80        60\n",
            "weighted avg       0.89      0.87      0.87        60\n",
            "\n",
            "Acuracidade:  0.8666666666666667\n"
          ]
        }
      ]
    },
    {
      "cell_type": "markdown",
      "source": [
        "# **USANDO KERAS TURNER**"
      ],
      "metadata": {
        "id": "f0IotRiEdK07"
      }
    },
    {
      "cell_type": "code",
      "source": [
        "def model_builder(hp):\n",
        "\n",
        "  # Tune the number of units in the first Dense layer\n",
        "  # Choose an optimal value between 8-128\n",
        "  hp_units_1 = hp.Int('hp_units_1', min_value=4, max_value=60, step=2)\n",
        "  model = keras.Sequential(layers.Dense(units=hp_units_1, activation='relu', input_shape=[X.shape[1]]))\n",
        "\n",
        "  # Tune the number of hidden layers 2-10 and units per layer\n",
        "  for i in range(hp.Int('num_layers', 2, 8)):\n",
        "   \n",
        "    #model.add(Dropout(0.20))\n",
        "    model.add(layers.Dense(units=hp.Int('hp_units_' + str(i),\n",
        "                                            min_value=4,\n",
        "                                            max_value=60,\n",
        "                                            step=2),\n",
        "                               activation='relu'))\n",
        "\n",
        "  model.add(layers.Dense(5, activation='sigmoid'))\n",
        "\n",
        "  # Tune the learning rate for the optimizer\n",
        "  # Choose an optimal value from 0.01, 0.001, or 0.0001\n",
        "  hp_learning_rate = hp.Choice('learning_rate', values=[1e-2, 1e-3, 1e-4])\n",
        "  \n",
        "  model.compile(keras.optimizers.Adam(learning_rate=hp_learning_rate), \n",
        "                loss='categorical_crossentropy', \n",
        "                metrics=['accuracy'])\n",
        "\n",
        "  return model"
      ],
      "metadata": {
        "id": "O1D41gzwdPHj"
      },
      "execution_count": null,
      "outputs": []
    },
    {
      "cell_type": "code",
      "source": [
        "tuner = kt.Hyperband(model_builder,\n",
        "                     objective='val_accuracy',\n",
        "                     max_epochs=50,\n",
        "                     factor=3,\n",
        "                     directory='mydir',\n",
        "                     project_name='mackenzie_dl_course')"
      ],
      "metadata": {
        "id": "ZWv95LHTfXsK"
      },
      "execution_count": null,
      "outputs": []
    },
    {
      "cell_type": "code",
      "source": [
        "stop_early = tf.keras.callbacks.EarlyStopping(monitor='val_loss', patience=5)\n",
        "tuner.search(X_train, y_train, \n",
        "             batch_size=64,\n",
        "             epochs=50, \n",
        "             validation_split=0.2, \n",
        "             callbacks=[stop_early])\n",
        "\n",
        "# Get the optimal hyperparameters\n",
        "best_hps=tuner.get_best_hyperparameters(num_trials=1)[0]"
      ],
      "metadata": {
        "colab": {
          "base_uri": "https://localhost:8080/"
        },
        "id": "CAPDSosGfi4Q",
        "outputId": "54d4b251-3ab4-471a-d173-9c8dc92c89c6"
      },
      "execution_count": null,
      "outputs": [
        {
          "output_type": "stream",
          "name": "stdout",
          "text": [
            "Trial 90 Complete [00h 00m 03s]\n",
            "val_accuracy: 0.8571428656578064\n",
            "\n",
            "Best val_accuracy So Far: 1.0\n",
            "Total elapsed time: 00h 02m 20s\n",
            "INFO:tensorflow:Oracle triggered exit\n"
          ]
        }
      ]
    },
    {
      "cell_type": "code",
      "source": [
        "print(f\"\"\"\n",
        "The hyperparameter search is complete.\n",
        "\n",
        "The optimal learning rate for the optimizer is {best_hps.get('learning_rate')}.\n",
        "\"\"\")\n",
        "\n",
        "print('Best layers units: \\n')\n",
        "for i in range(2,6):\n",
        "  print('Layer: ', i-1, ' , ', best_hps.get('hp_units_' + str(i)), ' units')"
      ],
      "metadata": {
        "colab": {
          "base_uri": "https://localhost:8080/"
        },
        "id": "dgJh2K3bfjpp",
        "outputId": "ad82d032-5e2a-40c2-bb03-252d7a8b585c"
      },
      "execution_count": null,
      "outputs": [
        {
          "output_type": "stream",
          "name": "stdout",
          "text": [
            "\n",
            "The hyperparameter search is complete.\n",
            "\n",
            "The optimal learning rate for the optimizer is 0.01.\n",
            "\n",
            "Best layers units: \n",
            "\n",
            "Layer:  1  ,  20  units\n",
            "Layer:  2  ,  46  units\n",
            "Layer:  3  ,  50  units\n",
            "Layer:  4  ,  32  units\n"
          ]
        }
      ]
    },
    {
      "cell_type": "code",
      "source": [
        "# Build the model with the optimal hyperparameters and train it on the data for 50 epochs\n",
        "model = tuner.hypermodel.build(best_hps)\n",
        "\n",
        "history = model.fit(X_train, y_train, \n",
        "                    batch_size=64,\n",
        "                    epochs=50, \n",
        "                    validation_split=0.2,\n",
        "                    verbose=0)\n",
        "\n",
        "val_acc_per_epoch = history.history['val_accuracy']\n",
        "best_epoch = val_acc_per_epoch.index(max(val_acc_per_epoch)) + 1\n",
        "print('Best epoch: %d' % (best_epoch,))"
      ],
      "metadata": {
        "colab": {
          "base_uri": "https://localhost:8080/"
        },
        "id": "BgPOSFcYfnCJ",
        "outputId": "79deebc6-a99e-4a22-eb5a-10d37a1687aa"
      },
      "execution_count": null,
      "outputs": [
        {
          "output_type": "stream",
          "name": "stdout",
          "text": [
            "Best epoch: 13\n"
          ]
        }
      ]
    },
    {
      "cell_type": "code",
      "source": [
        "hypermodel = tuner.hypermodel.build(best_hps)\n",
        "\n",
        "# Retrain the model\n",
        "hypermodel.fit(X_train, y_train, \n",
        "               batch_size=64,\n",
        "               epochs=best_epoch,\n",
        "               validation_split=0.2)"
      ],
      "metadata": {
        "colab": {
          "base_uri": "https://localhost:8080/"
        },
        "id": "BRM3tG1Yfuw7",
        "outputId": "15f1adcc-1f82-484d-d671-144ecbeeebb3"
      },
      "execution_count": null,
      "outputs": [
        {
          "output_type": "stream",
          "name": "stdout",
          "text": [
            "Epoch 1/13\n",
            "2/2 [==============================] - 1s 173ms/step - loss: 1.4838 - accuracy: 0.4821 - val_loss: 1.3261 - val_accuracy: 0.5000\n",
            "Epoch 2/13\n",
            "2/2 [==============================] - 0s 33ms/step - loss: 1.1215 - accuracy: 0.6250 - val_loss: 1.1182 - val_accuracy: 0.5000\n",
            "Epoch 3/13\n",
            "2/2 [==============================] - 0s 22ms/step - loss: 0.8568 - accuracy: 0.6518 - val_loss: 0.9173 - val_accuracy: 0.5357\n",
            "Epoch 4/13\n",
            "2/2 [==============================] - 0s 25ms/step - loss: 0.6684 - accuracy: 0.7054 - val_loss: 0.7196 - val_accuracy: 0.6429\n",
            "Epoch 5/13\n",
            "2/2 [==============================] - 0s 24ms/step - loss: 0.5021 - accuracy: 0.7768 - val_loss: 0.5420 - val_accuracy: 0.8214\n",
            "Epoch 6/13\n",
            "2/2 [==============================] - 0s 25ms/step - loss: 0.3531 - accuracy: 0.9107 - val_loss: 0.4548 - val_accuracy: 0.8214\n",
            "Epoch 7/13\n",
            "2/2 [==============================] - 0s 24ms/step - loss: 0.2458 - accuracy: 0.9643 - val_loss: 0.3790 - val_accuracy: 0.8214\n",
            "Epoch 8/13\n",
            "2/2 [==============================] - 0s 23ms/step - loss: 0.1737 - accuracy: 0.9732 - val_loss: 0.2546 - val_accuracy: 0.8571\n",
            "Epoch 9/13\n",
            "2/2 [==============================] - 0s 27ms/step - loss: 0.1060 - accuracy: 0.9821 - val_loss: 0.2032 - val_accuracy: 0.8929\n",
            "Epoch 10/13\n",
            "2/2 [==============================] - 0s 24ms/step - loss: 0.0771 - accuracy: 0.9821 - val_loss: 0.1327 - val_accuracy: 0.9643\n",
            "Epoch 11/13\n",
            "2/2 [==============================] - 0s 23ms/step - loss: 0.0569 - accuracy: 0.9821 - val_loss: 0.0653 - val_accuracy: 1.0000\n",
            "Epoch 12/13\n",
            "2/2 [==============================] - 0s 25ms/step - loss: 0.0528 - accuracy: 0.9732 - val_loss: 0.0384 - val_accuracy: 1.0000\n",
            "Epoch 13/13\n",
            "2/2 [==============================] - 0s 24ms/step - loss: 0.0322 - accuracy: 0.9821 - val_loss: 0.0614 - val_accuracy: 0.9643\n"
          ]
        },
        {
          "output_type": "execute_result",
          "data": {
            "text/plain": [
              "<keras.callbacks.History at 0x7f5f310e55d0>"
            ]
          },
          "metadata": {},
          "execution_count": 20
        }
      ]
    },
    {
      "cell_type": "code",
      "source": [
        "eval_result = hypermodel.evaluate(X_test, y_test)\n",
        "print(\"\\nTest loss:\", eval_result[0], \"\\n\\nTest Accuracy:\", eval_result[1])"
      ],
      "metadata": {
        "colab": {
          "base_uri": "https://localhost:8080/"
        },
        "id": "rXBiwOEZfvlC",
        "outputId": "96a549ff-ff86-47a9-9f1d-b491cf1dcd9d"
      },
      "execution_count": null,
      "outputs": [
        {
          "output_type": "stream",
          "name": "stdout",
          "text": [
            "2/2 [==============================] - 0s 6ms/step - loss: 0.1459 - accuracy: 0.9333\n",
            "\n",
            "Test loss: 0.14588579535484314 \n",
            "\n",
            "Test Accuracy: 0.9333333373069763\n"
          ]
        }
      ]
    },
    {
      "cell_type": "code",
      "source": [
        "y_pred_ = np.argmax(model.predict(X_test), axis=-1)\n",
        "\n",
        "y_pred = y_test*0\n",
        "for i in range(len(y_pred)):\n",
        "  y_pred.iloc[i,y_pred_[i]] = 1\n",
        "    \n",
        "print(classification_report(y_test, y_pred))"
      ],
      "metadata": {
        "colab": {
          "base_uri": "https://localhost:8080/"
        },
        "id": "w-zkZ4-kfypy",
        "outputId": "fd698c7c-2d18-476e-9ffb-b6592b5e0e5b"
      },
      "execution_count": null,
      "outputs": [
        {
          "output_type": "stream",
          "name": "stdout",
          "text": [
            "              precision    recall  f1-score   support\n",
            "\n",
            "           0       1.00      0.97      0.98        32\n",
            "           1       1.00      1.00      1.00         6\n",
            "           2       1.00      1.00      1.00         6\n",
            "           3       0.80      1.00      0.89         4\n",
            "           4       1.00      1.00      1.00        12\n",
            "\n",
            "   micro avg       0.98      0.98      0.98        60\n",
            "   macro avg       0.96      0.99      0.97        60\n",
            "weighted avg       0.99      0.98      0.98        60\n",
            " samples avg       0.98      0.98      0.98        60\n",
            "\n"
          ]
        }
      ]
    },
    {
      "cell_type": "markdown",
      "source": [
        "# **Conclusão**\n",
        "O Keras Tuner conseguiu encontrar um modelo que otimizou a acuracia e diminuiu a a perda. No modelo manual eu obtei por criar duas camas ocultas de 15 e 10 neurnios respectivamente, enquanto o Keras Tuner criou um modelo com 4 camadas ocultas de 20, 46, 50 e 32 neuronios respectivamente, ele também conseguiu obter um resultado menor em menos épocas em relação ao modelo manual.\n",
        "\n",
        "No final, o modelo automatico conseguiu melhores resultados do que o modelo criado manualmente."
      ],
      "metadata": {
        "id": "6L8T5QDPWbTG"
      }
    }
  ]
}